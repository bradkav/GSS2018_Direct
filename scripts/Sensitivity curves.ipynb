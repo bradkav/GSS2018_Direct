{
 "cells": [
  {
   "cell_type": "markdown",
   "metadata": {},
   "source": [
    "# Create plot with sensitivities and neutrino floor"
   ]
  },
  {
   "cell_type": "code",
   "execution_count": null,
   "metadata": {
    "collapsed": true
   },
   "outputs": [],
   "source": [
    "import matplotlib.pyplot as plt\n",
    "import numpy as np"
   ]
  },
  {
   "cell_type": "code",
   "execution_count": null,
   "metadata": {},
   "outputs": [],
   "source": [
    "def get_data (file_path):\n",
    "    text_file = open(file_path,\"r\")\n",
    "    data = [[],[]]\n",
    "    for line in text_file:\n",
    "        number = line.split('; ')\n",
    "        for i in range(len(number)): data[i].append(float(number[i].replace(',','.')))\n",
    "    return data"
   ]
  },
  {
   "cell_type": "code",
   "execution_count": null,
   "metadata": {
    "collapsed": true
   },
   "outputs": [],
   "source": [
    "# Data from arxiv 1805.12562 :\n",
    "XENON1T = get_data(\"Data sensitivity/XENON1T.txt\")\n",
    "\n",
    "# Data from arxiv 1708.06917 :\n",
    "PandaX = get_data(\"Data sensitivity/PandaX.txt\")\n",
    "\n",
    "# Data from arxiv 1608.07648\n",
    "LUX = get_data(\"Data sensitivity/LUX.txt\")\n",
    "\n",
    "# Data from arxiv 1709.00688 :\n",
    "Floor = get_data(\"Data sensitivity/Floor.txt\")"
   ]
  },
  {
   "cell_type": "code",
   "execution_count": null,
   "metadata": {},
   "outputs": [],
   "source": []
  },
  {
   "cell_type": "code",
   "execution_count": null,
   "metadata": {},
   "outputs": [],
   "source": [
    "plt.rc('text', usetex=True)\n",
    "plt.rc('font', family='serif')\n",
    "\n",
    "plt.loglog(LUX[0],LUX[1],'r',label='LUX (2017)')\n",
    "plt.loglog(PandaX[0],PandaX[1],'b',label='PandaX (2017)')\n",
    "plt.loglog(XENON1T[0],XENON1T[1],'k',label='XENON1T (2018)')\n",
    "plt.loglog(Floor[0],Floor[1],'#f4b46b',label='Neutrino floor')\n",
    "plt.xlim([5,1100])\n",
    "#plt.ylim([3*10**-47,2*10**-43])\n",
    "plt.xlabel(r\"WIMP mass $m_\\chi$ [GeV/c$^2$]\")\n",
    "plt.ylabel(r\"WIMP-nucleon cross section $\\sigma_{SI}$ [cm$^2$]\")\n",
    "plt.fill_between(Floor[0],np.zeros(len(Floor[0])),Floor[1],color='#fcead6',alpha=0.5)\n",
    "plt.legend()\n",
    "plt.savefig(\"Sens_plot_floor.png\")\n",
    "plt.show()"
   ]
  },
  {
   "cell_type": "code",
   "execution_count": null,
   "metadata": {},
   "outputs": [],
   "source": [
    "np.zeros(5)"
   ]
  }
 ],
 "metadata": {
  "kernelspec": {
   "display_name": "Python 3",
   "language": "python",
   "name": "python3"
  },
  "language_info": {
   "codemirror_mode": {
    "name": "ipython",
    "version": 3
   },
   "file_extension": ".py",
   "mimetype": "text/x-python",
   "name": "python",
   "nbconvert_exporter": "python",
   "pygments_lexer": "ipython3",
   "version": "3.6.5"
  }
 },
 "nbformat": 4,
 "nbformat_minor": 2
}
