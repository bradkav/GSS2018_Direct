{
 "cells": [
  {
   "cell_type": "markdown",
   "metadata": {},
   "source": [
    "# Create plot with sensitivities and neutrino floor"
   ]
  },
  {
   "cell_type": "code",
   "execution_count": null,
   "metadata": {
    "collapsed": true
   },
   "outputs": [],
   "source": [
    "import matplotlib.pyplot as plt\n",
    "import numpy as np"
   ]
  },
  {
   "cell_type": "code",
   "execution_count": null,
   "metadata": {
    "collapsed": true
   },
   "outputs": [],
   "source": [
    "def get_data (file_path):\n",
    "    text_file = open(file_path,\"r\")\n",
    "    data = [[],[]]\n",
    "    for line in text_file:\n",
    "        number = line.split('; ')\n",
    "        for i in range(len(number)): data[i].append(float(number[i].replace(',','.')))\n",
    "    return data"
   ]
  },
  {
   "cell_type": "code",
   "execution_count": null,
   "metadata": {
    "collapsed": true
   },
   "outputs": [],
   "source": [
    "# Data from arxiv 1805.12562 :\n",
    "XENON1T = get_data(\"Data sensitivity/XENON1T.txt\")\n",
    "\n",
    "# Data from arxiv 1708.06917 :\n",
    "PandaX = get_data(\"Data sensitivity/PandaX.txt\")\n",
    "\n",
    "# Data from arxiv 1608.07648 :\n",
    "LUX = get_data(\"Data sensitivity/LUX.txt\")\n",
    "\n",
    "# Data from P. Agnes et al. (2016) \"Results from the first use of low radioactivity argon in a dark matter search\"\n",
    "DarkSide = get_data(\"Data sensitivity/DarkSide.txt\")\n",
    "\n",
    "# Data from arxiv 1709.00688 :\n",
    "Floor = get_data(\"Data sensitivity/Floor.txt\")"
   ]
  },
  {
   "cell_type": "code",
   "execution_count": null,
   "metadata": {
    "collapsed": true
   },
   "outputs": [],
   "source": []
  },
  {
   "cell_type": "code",
   "execution_count": null,
   "metadata": {},
   "outputs": [],
   "source": [
    "plt.rc('text', usetex=True)\n",
    "plt.rc('font', family='serif')\n",
    "\n",
    "plt.loglog(DarkSide[0],DarkSide[1],'g',label='DarkSide (2016)')\n",
    "plt.loglog(LUX[0],LUX[1],'r',label='LUX (2017)')\n",
    "plt.loglog(PandaX[0],PandaX[1],'b',label='PandaX (2017)')\n",
    "plt.loglog(XENON1T[0],XENON1T[1],'k',label='XENON1T (2018)')\n",
    "#plt.loglog(Floor[0],Floor[1],'#f4b46b',label='Neutrino floor')\n",
    "#plt.xlim([Floor[0][0],Floor[0][-1]])\n",
    "#plt.ylim([9*10**-50,5*10**-41])\n",
    "plt.xlabel(r\"WIMP mass $m_\\chi$ [GeV/c$^2$]\")\n",
    "plt.ylabel(r\"WIMP-nucleon cross section $\\sigma_{SI}$ [cm$^2$]\")\n",
    "#plt.fill_between(Floor[0],np.zeros(len(Floor[0])),Floor[1],color='#fcead6',alpha=0.5)\n",
    "plt.legend(loc=1, fancybox=True, framealpha=.9)\n",
    "plt.savefig(\"Sens_plot.png\",dpi=300)\n",
    "plt.show()"
   ]
  },
  {
   "cell_type": "code",
   "execution_count": null,
   "metadata": {},
   "outputs": [],
   "source": [
    "LUX[0][-1]"
   ]
  }
 ],
 "metadata": {
  "kernelspec": {
   "display_name": "Python 3",
   "language": "python",
   "name": "python3"
  },
  "language_info": {
   "codemirror_mode": {
    "name": "ipython",
    "version": 3
   },
   "file_extension": ".py",
   "mimetype": "text/x-python",
   "name": "python",
   "nbconvert_exporter": "python",
   "pygments_lexer": "ipython3",
   "version": "3.6.5"
  }
 },
 "nbformat": 4,
 "nbformat_minor": 2
}
