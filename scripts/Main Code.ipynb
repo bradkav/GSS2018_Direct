{
 "cells": [
  {
   "cell_type": "markdown",
   "metadata": {},
   "source": [
    "# Differential event rate\n",
    "\n",
    "\n",
    "$$\n",
    "\\frac{dR}{dE_R} = \\frac{\\rho_0}{m_\\chi m_N} \\int_{v_\\text{min}}^{v_\\text{max}} v f(v) \\frac{d\\sigma}{dE_R} dv\n",
    "$$\n",
    "\n",
    "The differential event rate gives the number of expected events per kg material per a unit energy and is of essential importance for direct dark matter detections. It predicts what a possible signal would look like in a detector."
   ]
  },
  {
   "cell_type": "markdown",
   "metadata": {},
   "source": [
    "## Velocity density distribution "
   ]
  },
  {
   "cell_type": "markdown",
   "metadata": {},
   "source": [
    "The three dimensional velocity function follows a Maxwell function\n",
    "$$\n",
    "f_{gal}(\\textbf{v}) = \\frac{1}{\\sqrt{2 \\pi}\\sigma_{v}} \\exp \\left(\\frac{-|\\textbf{v}|^2 } {2\\sigma_{v}^2}\\right)\n",
    "$$\n",
    "\n",
    "However, this assumes a static reference frame. In reality the detector is located on the Earth, which rotates, orbits the Sun and moves with the Sun through the Galaxy. This influences the velocity distribution observed at Earth. Since most Dark Matter direct detectors measure for a long time, it is a reasonable approximation to look at just the movement of the Sun through the Galaxy, which is $v_\\text{Earth} = 220 \\pm 20$ km/s. [1]\n",
    "\n",
    "$$\n",
    " f(\\mathbf{v}) = f_\\text{Gal}(\\mathbf{v}-\\mathbf{v}_\\text{Earth})\n",
    "$$\n",
    "\n",
    "Furthermore, the current detectors are not direction dependent. Therefore, the velocity distribution can be rewritten as a speed distribution. For the uncorrected veloctiy function this becomes:\n",
    "\n",
    "$$\n",
    " f_{gal}(v) \\text{ ~ } v^2 \\exp \\left(\\frac{-|v|^2}{2\\sigma_{v}^2} \\right)\n",
    "$$\n",
    "\n",
    "Once we introduce the correction of the earth the calculation becomes more complex. \n",
    "\n",
    "$$\n",
    " f(v) = \\int\\int d\\theta  \\frac{1}{\\sqrt{2 \\pi}\\sigma_v}\\exp \\left( \\frac{-|\\textbf{v}-\\textbf{v}_\\text{Earth}|}{2\\sigma_v^2} \\right) d\\cos\\theta \n",
    "$$\n",
    "\n",
    "$$\n",
    " f(v) = \\int\\int d\\theta  \\frac{1}{\\sqrt{2 \\pi}\\sigma_v}\\exp \\left( \\frac{-v^2-v_\\text{Earth}^2+2v_\\text{Earth}v\\cos \\theta}{2\\sigma_v^2} \\right) d\\cos\\theta \n",
    "$$\n",
    "\n",
    "$$\n",
    "f(v) =2 \\pi \\frac{1}{\\sqrt{2 \\pi}\\sigma_v}v^2\\exp \\left( \\frac{-v^2-v_\\text{Earth}^2}{2\\sigma_v^2} \\right) \\int \\exp \\left( \\frac{2 v_\\text{Earth}v \\cos \\theta}{2 \\sigma_v^2}  \\right) d\\cos \\theta\n",
    "$$\n",
    "\n",
    "If we wish to contnue we have to look at the limits for the $\\cos \\theta$ integration. \n",
    "\n",
    "<b>Insert integration limit </b>\n",
    "\n",
    "This results in the Standard Halo Model, where the slope of the higher energy particles extends further compared to a gaussian. \n",
    "\n",
    "\n",
    "$$\n",
    "f(v) = \\frac{v}{\\sqrt{2 \\pi}\\sigma_v v_e N_\\text{esc}} \n",
    "\\begin{cases}\n",
    "    0 & \\mbox{if } v \\gt v_\\text{esc}+v_e \\\\\n",
    "    \\exp \\left[-\\frac{(v-v_e)^2}{2\\sigma_v^2} \\right] - \\exp \\left[-\\frac{(v-v_e)^2}{2\\sigma_v^2} \\right] & \\mbox{if } v \\lt v_\\text{esc}-v_e \\\\\n",
    "    \\exp \\left[-\\frac{(v-v_e)^2}{2\\sigma_v^2} \\right] - \\exp \\left[-\\frac{v_\\text{esc}^2}{2\\sigma_v^2} \\right] & \n",
    "    \\mbox{otherwise}\n",
    "\\end{cases}\n",
    "$$\n",
    "\n",
    "The escape velocity for dark matter $v_\\text{esc}$ is assumed to be the galactic escape speed, which is around 550 km/s. [2]\n",
    "\n",
    "\n",
    "[1] F. J. Kerr and D. Lynden-Bell, “Review of galactic constants”, Mon. Not. Roy. Astron. Soc., vol. 221, p. 1023, 1986.\n",
    "\n",
    "\n",
    "[2] T. Piffl et al., \"The RAVE survey: the Galactic escape speed and the mass of the Milky Way\", Astron. Astrophys. 562 (2014) A91.\n",
    "\n"
   ]
  },
  {
   "cell_type": "code",
   "execution_count": 92,
   "metadata": {},
   "outputs": [],
   "source": [
    "import numpy as np\n",
    "import matplotlib.pyplot as plt\n",
    "import math\n",
    "from scipy import special,integrate\n",
    "from matplotlib import rc\n",
    "\n",
    "rc('font',**{'family':'sans-serif','sans-serif':['Helvetica']})\n",
    "rc('text', usetex=True)"
   ]
  },
  {
   "cell_type": "code",
   "execution_count": 97,
   "metadata": {},
   "outputs": [],
   "source": [
    "velocity = np.logspace(-2,3,1000)\n",
    "sigma = 270.  #km/s\n",
    "v_esc = 550.\n",
    "v_e = 220."
   ]
  },
  {
   "cell_type": "code",
   "execution_count": 98,
   "metadata": {},
   "outputs": [],
   "source": [
    "def N_esc(v_esc, sigma):\n",
    "    a = v_esc**2/(2*sigma**2)\n",
    "    return special.erf(np.sqrt(a))  - np.sqrt(2/np.pi) * v_esc/sigma *np.exp(-a)"
   ]
  },
  {
   "cell_type": "code",
   "execution_count": 99,
   "metadata": {},
   "outputs": [],
   "source": [
    "def speed_dist(v, v_e, v_esc, sigma):\n",
    "    factor = v / (np.sqrt(np.pi*2)*sigma*v_e*N_esc(v_esc, sigma))\n",
    "    \n",
    "    if v > v_esc+v_e:\n",
    "        return 0 \n",
    "    elif v < v_esc-v_e:\n",
    "        return factor*(np.exp(-(v-v_e)**2/(2*sigma**2)) - np.exp(-(v+v_e)**2/(2*sigma**2)))\n",
    "    else:\n",
    "        return factor*(np.exp(-(v-v_e)**2/(2*sigma**2)) - np.exp(-v_esc**2/(2*sigma**2)))"
   ]
  },
  {
   "cell_type": "code",
   "execution_count": 100,
   "metadata": {},
   "outputs": [
    {
     "data": {
      "image/png": "[encoded data removed]",
      "text/plain": [
       "<Figure size 432x288 with 1 Axes>"
      ]
     },
     "metadata": {},
     "output_type": "display_data"
    }
   ],
   "source": [
    "plt.plot(velocity, [speed_dist(i, v_e, v_esc, sigma) for i in velocity])\n",
    "plt.title(r\"Speed distribution from Earth\")\n",
    "plt.ylabel(r\"$f(v)\\ [(km/s)^{-1}]$\")\n",
    "plt.xlabel(r\"Velocity $[km/s]$\")\n",
    "plt.show()"
   ]
  },
  {
   "cell_type": "markdown",
   "metadata": {
    "collapsed": true
   },
   "source": [
    "## Interaction cross section\n",
    "\n",
    "The interaction cross section can be split into an spin-dependent and spin-independent. We will first look at the spin-independent part.\n",
    "\n",
    "$$\n",
    " \\frac{d\\sigma}{dE_R} = \\frac{d\\sigma_\\text{SD}}{dE_R} + \\frac{d\\sigma_\\text{SI}}{dE_R}\n",
    "$$\n",
    "\n",
    "Assuming the interaction strength of the neutron-DM and proton-DM is the same, the spin-independent part can be written as: \n",
    "\n",
    "$$\n",
    "\\frac{d\\sigma_\\text{SI}}{dE_R} = \\frac{m_N \\sigma_p^\\text{SI}}{2\\mu_{\\chi p}^2 v^2} A^2 F^2_\\text{SI}(E_R),\n",
    "$$\n",
    "where \n",
    "\n",
    "- $m_N$: the mass of the nucleus\n",
    "- $\\sigma_p^\\text{SI}$: the interaction strength between a dark matter particle and proton at zero momentum\n",
    "- $\\mu_{\\chi p}$ the reduced mass of the proton-WIMP system ($=\\frac{m_\\chi m_p}{m_\\chi+m_p}$)\n",
    "- $A$ the atomic mass number of the target\n",
    "- $F$ the form factor correction"
   ]
  },
  {
   "cell_type": "markdown",
   "metadata": {},
   "source": [
    "## Form Factor\n",
    "\n",
    "Due to the particle wavelength being smaller than the radius of the proton, the cross section has to be corrected to be smaller. This is done using a parametrisation: the Helm form. \n",
    "\n",
    "$$\n",
    "F^2_\\text{SI}(E_R) = \\left[ \\frac{3 j_1(qR_1)}{qR_1}\\right]^2 e^{-q^2 s^2}\n",
    "$$\n",
    "with \n",
    "$$\n",
    "q = \\sqrt{2 m_N E_R}, \n",
    "$$\n",
    "and R_1 comes from spectroscopy data. \n",
    "\n",
    "$$\n",
    "R_1 = \\sqrt{c^2 +\\frac{7}{3}\\pi^2 a^2 - 5s^2}\n",
    "$$\n",
    "\n",
    "$$\n",
    "c = 1.23 A^{1/3}-0.60 \\text{ fm}\n",
    "$$\n",
    "\n",
    "$$\n",
    "a = 0.52 \\text{ fm}\n",
    "$$\n",
    "\n",
    "$$\n",
    "s = 0.9 \\text{ fm}\n",
    "$$\n",
    "\n",
    "\n",
    "To achieve the right units, R1 and s have to be transformed to be in natural units, preferably GeV. This is done by using the transformation that $0.1975 \\text{ fm} = \\frac{1}{\\text{GeV}}$.\n",
    "\n",
    "\n",
    "\n",
    "[3] B.J. Kavanagh, M Fornasa, A.M. Green, \"Probing WIMP particle physics and astrophysics with direct detection and neutrino telescope data\", Phys. Rev., vol. 91, issue 10  "
   ]
  },
  {
   "cell_type": "code",
   "execution_count": 101,
   "metadata": {},
   "outputs": [],
   "source": [
    "def FSquared(E_R, A):\n",
    "    \"\"\"\n",
    "    Calculate the form factor given an recoil energy and atomic mass number using the Helm parameterisation. \n",
    "    \n",
    "    Input: \n",
    "    - E_R   Recoil Energy in GeV\n",
    "    - A:    Atomic mass number \n",
    "    \n",
    "    Output: \n",
    "    - Form Factor\n",
    "    \"\"\"\n",
    "    m = 0.9315*A # GeV  \n",
    "    s = 0.9 # fm\n",
    "    a = 0.52 # fm\n",
    "    c = 1.23*A**(1/3) - 0.60 # fm\n",
    "    R1 = np.sqrt(c**2 + 7/3 * np.pi**2 *a**2  - 5*s**2) # fm\n",
    "    R1_NU = R1/0.1975 # GeV^-1 (natural units)\n",
    "    s_NU = s/0.1975 # GeV^-1 (natural units)\n",
    "    q = np.sqrt(2*m*E_R) # GeV\n",
    "    #print(R1_NU,s_NU,q,q*R1_NU,q**2*s_NU**2)\n",
    "    j_n = special.spherical_jn(1,q*R1_NU)\n",
    "    return(3*j_n/(q*R1_NU))**2 * np.exp(-q**2 *s_NU**2)\n"
   ]
  },
  {
   "cell_type": "code",
   "execution_count": 102,
   "metadata": {},
   "outputs": [
    {
     "data": {
      "image/png": "[encoded data removed]",
      "text/plain": [
       "<Figure size 432x288 with 1 Axes>"
      ]
     },
     "metadata": {},
     "output_type": "display_data"
    }
   ],
   "source": [
    "x=np.linspace(2E-6,5E-3,10000)\n",
    "y=[FSquared(q,132) for q in x]\n",
    "\n",
    "plt.loglog(x*1E6,y)\n",
    "plt.title(\"Form factor\")\n",
    "plt.xlabel(r\"$E_R$ [$keV$]\")\n",
    "plt.ylabel(r\"F$^2(E_R)$ [$-$]\")\n",
    "plt.show()"
   ]
  },
  {
   "cell_type": "markdown",
   "metadata": {},
   "source": [
    "## Integrated speed distribution\n",
    "\n",
    "If just the spin-independent part is considered the event rate can be split into a speed-dependent and speed-independent part. The speed-dependent part of the interaction rate can be rewritten as: \n",
    "\n",
    "$$\n",
    "\\eta(v_{min}) = \\frac{1}{2v_e N_\\text{esc}}\n",
    "\\begin{cases} \n",
    "    0 & \\mbox{if } v_\\text{min} > v_\\text{esc} + v_\\text{e} \\\\ \n",
    "    \\text{erf}[\\alpha_+]-\\text{erf}[\\alpha_-]-2\\frac{v_e}{\\sigma_v}\\sqrt{\\frac{2}{\\pi}} \\exp \\left(-\\alpha_\\text{esc}^2 \\right) & \\mbox{if } v_\\text{min} < v_\\text{esc}- v_\\text{e}  \\\\\n",
    "    \\text{erf}[\\alpha_\\text{esc}]-\\text{erf}[\\alpha_-] - \\frac{v_\\text{esc}+v_\\text{e}-v_\\text{min}}{\\sigma_v}\\sqrt{\\frac{2}{\\pi}}\\exp \\left(-\\alpha_\\text{esc}^2 \\right) & \\mbox{otherwise}\n",
    "\\end{cases}\n",
    "$$\n",
    "with \n",
    "\n",
    "$$\n",
    "\\alpha_\\pm(v_\\text{min}) = \\frac{v_\\text{min} \\pm v_\\text{e}}{\\sqrt{2}\\sigma_v} \\mbox{ and } \\alpha_\\text{esc} = \\frac{v_\\text{esc}}{\\sqrt{2}\\sigma_v}\n",
    "$$\n",
    "\n",
    "This can also be writen as:\n",
    "\n",
    "$$\n",
    "\\eta(v_\\text{min}) = \\frac{1}{2v_\\text{e}N_\\text{esc}} \\left(\\text{erf}[\\tilde \\alpha_+] - \\text{erf}[\\tilde \\alpha_-] - \\frac{2}{\\sqrt{\\pi}} (\\tilde \\alpha_+ - \\tilde \\alpha_-) \\exp[-\\alpha^2_\\text{esc}] \\right)\n",
    "$$\n",
    "where \n",
    "\n",
    "$$\n",
    "\\tilde \\alpha_\\pm(v_\\text{min}) = min(\\alpha_\\pm, \\alpha_\\text{esc})\n",
    "$$\n",
    "\n",
    "\n",
    "$$\n",
    "v_\\text{min} = \\sqrt{\\frac{m_\\text{N}E_R}{2\\mu_{\\chi N}}}\n",
    "$$\n",
    "\n",
    "$v_\\text{min}$ is the lowest dark matter velocity at which a recoil event can still take place. \n"
   ]
  },
  {
   "cell_type": "code",
   "execution_count": 103,
   "metadata": {},
   "outputs": [],
   "source": [
    "def speed_integrated(v_min, v_esc, v_earth, sigma):\n",
    "    \"\"\"\n",
    "    Return the value of the integrated speed distribution in the interaction rate\n",
    "    \"\"\"\n",
    "    a_esc = v_esc / (np.sqrt(2)*sigma)\n",
    "    ap = min( (v_min + v_earth)/(np.sqrt(2)*sigma), a_esc)\n",
    "    am = min( (v_min - v_earth)/(np.sqrt(2)*sigma), a_esc)\n",
    "    return 1/(2*v_earth*N_esc(v_min, sigma))* (special.erf(ap)-special.erf(am)- (2/np.sqrt(np.pi))*(ap - am)*np.exp(-a_esc**2) )\n",
    "        \n",
    "    "
   ]
  },
  {
   "cell_type": "code",
   "execution_count": 104,
   "metadata": {},
   "outputs": [
    {
     "data": {
      "image/png": "[encoded data removed]",
      "text/plain": [
       "<Figure size 432x288 with 1 Axes>"
      ]
     },
     "metadata": {},
     "output_type": "display_data"
    }
   ],
   "source": [
    "plt.loglog(velocity, [speed_integrated(i, v_esc, v_e, sigma) for i in velocity])\n",
    "plt.title(r\"Integrated speed distribution from Earth\")\n",
    "plt.ylabel(r\"$\\eta\\ [(km/s)^{-1}]$\")\n",
    "plt.xlabel(r\"Velocity [$km/s$]\")\n",
    "plt.show()"
   ]
  },
  {
   "cell_type": "markdown",
   "metadata": {
    "collapsed": true
   },
   "source": [
    "# The Differential Interaction Rate\n",
    "\n",
    "Now that the speed distribution has been integrated. The differential event/interaction rate can be simplified. \n",
    "\n",
    "\n",
    "$$\n",
    "\\frac{dR}{dE_R} = \\frac{\\rho_0}{m_\\chi} \\frac{\\sigma^\\text{SI}_p A^2 F^2(E_R)}{2 \\mu_{\\chi p}^2} \\int_{v_\\text{min}}^{v_\\text{esc}} \\frac{f(v)}{v} dv\n",
    "$$\n",
    "\n",
    "$$\n",
    "\\frac{dR}{dE_R} = \\frac{\\rho_0}{m_\\chi} \\frac{\\sigma^\\text{SI}_p A^2 F^2(E_R)}{2 \\mu_{\\chi p}^2} \\eta(v_\\text{min})\n",
    "$$\n",
    "\n",
    "Several variables will still have to be defined:\n",
    "\n",
    "- $\\rho_0$ is the dark matter mass density. Often estimated to be 0.3 $\\pm$ 0.05 GeV/$c^2$.\n",
    "- $m_\\chi$ is the dark matter particles mass. \n",
    "\n"
   ]
  },
  {
   "cell_type": "code",
   "execution_count": 10,
   "metadata": {
    "collapsed": true
   },
   "outputs": [],
   "source": [
    "def v_min(E_R, A, DM_mass):\n",
    "    \"\"\"\n",
    "    Calculate the minimum velocity at which the energy can still create a recoil effect\n",
    "    \n",
    "    Input:\n",
    "    - E_R:        Recoil Energy in GeV\n",
    "    - A:          The atomic mass number of detector\n",
    "    - DM_mass:    The mass of the WIMP in GeV\n",
    "    \"\"\"\n",
    "    \n",
    "    m_N = 0.9315*A # GeV Atomic number conversion\n",
    "    mu = (m_N*DM_mass)/(m_N + DM_mass)\n",
    "    return np.sqrt((m_N * E_R)/(2*mu**2))"
   ]
  },
  {
   "cell_type": "code",
   "execution_count": 118,
   "metadata": {},
   "outputs": [],
   "source": [
    "def diff_int_rate(E_R, DM_mass, A, int_cross=1., v_esc=v_esc, v_earth=v_e, sigma=sigma):\n",
    "    \"\"\"\n",
    "    Calculate the differential interaction rate. \n",
    "    \n",
    "    Input:\n",
    "    - E_R:        Recoil Energy in GeV\n",
    "    - DM_mass:    The mass of the WIMP in GeV\n",
    "    - int_cross:  Interaction cross section between the WIMP and a proton at zero momentum in cm^2\n",
    "    - A:          The atomic mass number of detector\n",
    "    - v_esc:      Escape velocity of the DM particles in km/s\n",
    "    - v_earth:    The velocity of the earth in km/s\n",
    "    - sigma:      Deviation in the velocity distribution in km/s\n",
    "    \n",
    "    Output:\n",
    "    - dRdE:       Differential interaction rate in events day^-1 kg^-1 keV^-1\n",
    "    \"\"\"\n",
    "    \n",
    "    m_p = 0.9315 # GeV\n",
    "    rho = 0.30 # ± 0.05 GeV / cm^3\n",
    "    mu = (DM_mass * m_p)/ (DM_mass + m_p)    # GeV\n",
    "    v_m = v_min(E_R, A, DM_mass)\n",
    "    dRdE = (rho/DM_mass * (int_cross * A**2 * FSquared(E_R, A))/(2*mu**2) * \n",
    "            speed_integrated(v_m,v_esc, v_earth, sigma)) # s cm^-2 km^-1 GeV^-2\n",
    "    return dRdE*1E-19/(1.78E-36*2.9979E8)*24*3600 # day^-1 kg^-1 keV^-1"
   ]
  },
  {
   "cell_type": "markdown",
   "metadata": {},
   "source": [
    "### Plotting the differential interation rate\n",
    "\n",
    "Using the code below it is possible to show differential interaction rates for different target materials.\n",
    "\n",
    "The dark matter mass and the dark matter-proton cross section are free parameters. "
   ]
  },
  {
   "cell_type": "code",
   "execution_count": 130,
   "metadata": {},
   "outputs": [],
   "source": [
    "targets = {\"Xenon-132\": 132,\n",
    "           \"Argon-40\": 40,\n",
    "           \"Germanium-74\":74}\n",
    "\n",
    "# Recoil space\n",
    "E_recoil = np.linspace(2e-6,5e-3,10000)\n",
    "\n",
    "# Dark matter mass in GeV\n",
    "DMmass = [10,50,100,500]\n",
    "\n",
    "# Dark matter - proton interaction cross section\n",
    "sigma_p = 1e-30\n",
    "\n",
    "dRdE_test2 = [diff_int_rate(E, DMmass[2], targets[\"Xenon-132\"],sigma_p) for E in E_recoil]"
   ]
  },
  {
   "cell_type": "code",
   "execution_count": 128,
   "metadata": {},
   "outputs": [
    {
     "data": {
      "image/png": "[encoded data removed]",
      "text/plain": [
       "<Figure size 432x288 with 1 Axes>"
      ]
     },
     "metadata": {},
     "output_type": "display_data"
    }
   ],
   "source": [
    "plt.loglog(E_recoil*1e6,dRdE_test2)\n",
    "plt.xlabel(r'$E_R\\ [keV]$')\n",
    "plt.ylabel(r'$(1\\ cm^2/\\sigma_0)\\ dR/dE\\ [events\\ day^{-1}\\ kg^{-1}\\ keV^{-1}]$')\n",
    "plt.title(r'Differential interaction rate for $m_\\chi=100\\ GeV$ and a ${}^{132}Xe$ target')\n",
    "plt.show()"
   ]
  },
  {
   "cell_type": "markdown",
   "metadata": {},
   "source": [
    "# Integrated Interaction Rate\n",
    "\n",
    "The differential event rate shows the signal a dark matter particke would have inside a specific detector. However, it is more interesting to look at the total rate of interaction, since it allows for an expected signal per dark matter mass. \n",
    "\n",
    "The threshold energy ($E_T$) is determined by the properties of the detector, while the maximum energy comes from the maximum velocity of the dark matter particle. This is already included in the integral over $v$ and can be changed to integrate till infinite. \n"
   ]
  },
  {
   "cell_type": "markdown",
   "metadata": {},
   "source": [
    "$$\n",
    "R=\\int _{E_T}^{E_{max}}\\frac{dR}{dE}\n",
    "$$\n",
    "\n",
    "$$\n",
    "\\frac{dR}{dE_R} = \\frac{\\rho_0}{m_\\chi} \\frac{\\sigma^\\text{SI}_p A^2 F^2(E_R)}{2 \\mu_{\\chi p}^2} \\eta(v_\\text{min})\n",
    "$$"
   ]
  },
  {
   "cell_type": "code",
   "execution_count": 131,
   "metadata": {},
   "outputs": [],
   "source": [
    "def rate(DM_mass, A, E_T, E_max, int_cross=1.):\n",
    "    R = integrate.quad(lambda v: diff_int_rate(v, DM_mass, A, int_cross),E_T,E_max)\n",
    "    return R"
   ]
  },
  {
   "cell_type": "code",
   "execution_count": 132,
   "metadata": {},
   "outputs": [],
   "source": [
    "# mDM2 = np.logspace(1,3,20)\n",
    "# R = [rate(m,132,5E-6,4E-5)[0] for m in mDM2]"
   ]
  },
  {
   "cell_type": "code",
   "execution_count": 133,
   "metadata": {},
   "outputs": [],
   "source": [
    "# plt.loglog(mDM2,R)\n",
    "# plt.xlabel(r'$m_\\chi\\ [GeV]$')\n",
    "# plt.ylabel(r'$R\\ [{\\sigma_{p}^{SI}}GeV^{-1}]$')\n",
    "# plt.show()"
   ]
  },
  {
   "cell_type": "code",
   "execution_count": 134,
   "metadata": {},
   "outputs": [
    {
     "name": "stderr",
     "output_type": "stream",
     "text": [
      "/usr/local/lib/python3.6/site-packages/scipy/integrate/quadpack.py:385: IntegrationWarning: The maximum number of subdivisions (50) has been achieved.\n",
      "  If increasing the limit yields no improvement it is advised to analyze \n",
      "  the integrand in order to determine the difficulties.  If the position of a \n",
      "  local difficulty can be determined (singularity, discontinuity) one will \n",
      "  probably gain from splitting up the interval and calling the integrator \n",
      "  on the subranges.  Perhaps a special-purpose integrator should be used.\n",
      "  warnings.warn(msg, IntegrationWarning)\n",
      "/usr/local/lib/python3.6/site-packages/scipy/integrate/quadpack.py:385: IntegrationWarning: The occurrence of roundoff error is detected, which prevents \n",
      "  the requested tolerance from being achieved.  The error may be \n",
      "  underestimated.\n",
      "  warnings.warn(msg, IntegrationWarning)\n"
     ]
    }
   ],
   "source": [
    "massDM = 100 # GeV\n",
    "A_Xe = 132\n",
    "E_thres = np.logspace(-6,-4,100)\n",
    "rate_new = [rate(DM_mass = massDM, A=A_Xe, E_T=E, E_max = 1E-4, int_cross=1.)[0] for E in E_thres]"
   ]
  },
  {
   "cell_type": "code",
   "execution_count": 135,
   "metadata": {},
   "outputs": [
    {
     "data": {
      "image/png": "[encoded data removed]",
      "text/plain": [
       "<Figure size 432x288 with 1 Axes>"
      ]
     },
     "metadata": {},
     "output_type": "display_data"
    }
   ],
   "source": [
    "plt.loglog(E_thres,rate_new)\n",
    "plt.xlabel(r'$E_T\\ [GeV]$')\n",
    "plt.ylabel(r'$(1\\ cm^2/\\sigma_0)\\ R\\ [events\\ day^{-1}\\ kg^{-1}]$')\n",
    "plt.title(r'Xenon-132')\n",
    "plt.show()"
   ]
  },
  {
   "cell_type": "markdown",
   "metadata": {},
   "source": [
    "# Spin-dependent Interaction\n",
    "\n",
    "The spin-dependent part of the differential cross section is as follows: \n",
    "\n",
    "$$\n",
    "\\frac{d\\sigma_\\text{SD}}{dE_R} = \\frac{m_N \\sigma_p^\\text{SD}}{2\\mu_{\\chi p}^2 v^2} \\frac{2(J+1)}{3J} \\left(\\langle S_p \\rangle + \\frac{a_n}{a_p} \\langle S_n \\rangle \\right)^2 F^2_\\text{SD}(E_R)\n",
    "$$\n",
    "The $1/v^2$ can be removed, since it is taken into the integration of $v$ in $\\eta$. It is often assumed that the coupling strength between protons and neutrons is the same ($a_n = a_p$) and the form factor can be rewritten as a combination of spin structure values giving us: \n",
    "\n",
    "$$\n",
    "\\frac{d\\sigma_\\text{SD}}{dE_R} = \\frac{8 \\pi m_N \\sigma_p^\\text{SD}}{3\\mu_{\\chi p}^2} \\frac{S_{00}(E_R)}{(2J+1)}\n",
    "$$\n",
    "with\n",
    "\n",
    "$$\n",
    "S_{ij} = N((1-\\beta)e^{-\\alpha u} + \\beta)\n",
    "$$\n",
    "where $\\alpha, \\beta, N$ are parameters, while $u$ can be calculated with \n",
    "\n",
    "$$\n",
    "u = \\frac{(qb)^2}{2}, \\quad b = \\sqrt{\\frac{41.467}{(45.0A^{-1/3} -25.0A^{-2/3})}}\\text{  fm.}\n",
    "$$\n",
    "Here $q$ is the momentum transfer\n",
    "$$\n",
    "q=\\sqrt{2m_NE_R}.\n",
    "$$\n",
    "\n",
    "This can be used to calculate the SD differential interaction rate\n",
    "$$\n",
    "\\frac{dR}{dE} = \\frac{\\rho_0}{m_\\chi m_N} \\frac{d\\sigma_{SD}}{dE_R} \\eta (v_{min})\n",
    "$$\n",
    "\n",
    "\n",
    "## Spin structure "
   ]
  },
  {
   "cell_type": "code",
   "execution_count": 136,
   "metadata": {},
   "outputs": [],
   "source": [
    "def diff_cross_section(E_R, A, J, parameters, DM_mass, int_cross=1.):\n",
    "    \"\"\"\n",
    "    Calculation of the spin dependent differential cross section.\n",
    "    \n",
    "    Input:\n",
    "    - E_R:        Recoil Energy in GeV\n",
    "    - A:          The atomic mass number of the detector\n",
    "    - J:          The spin of the atoms in the detector\n",
    "    - parameters: Detector dependent parameter\n",
    "    - DM_mass:    The mass of the dark matter particles in GeV\n",
    "    - int_cross:  Interaction cross section between the WIMP and a proton at zero momentum in cm^2\n",
    "    \n",
    "    Output:\n",
    "    - Spin dependent differential cross section\n",
    "    \"\"\"\n",
    "    \n",
    "    [alpha, beta, N] = parameters\n",
    "    \n",
    "    m_N = .9315 * A # GeV\n",
    "    m_p = .9315 # GeV\n",
    "    mu = (DM_mass**2 + m_p**2)/(DM_mass*m_p)\n",
    "    \n",
    "    q = np.sqrt(2*m_N*E_R) # GeV\n",
    "    b = np.sqrt(41.467/(45*A**(-1/3) -25*A**(-2/3))) # fm\n",
    "    b_NU = b/0.1975 # GeV^-1\n",
    "    u = (q*b_NU)**2/2 # No unit\n",
    "    \n",
    "    S = N*((1-beta)*np.exp(-alpha*u) + beta) # No unit\n",
    "    \n",
    "    dSigma_dE = 8*np.pi*m_N*int_cross/(3*mu**2) * S / (2*J+1) # cm^2 / GeV\n",
    "    \n",
    "    return dSigma_dE"
   ]
  },
  {
   "cell_type": "code",
   "execution_count": 137,
   "metadata": {},
   "outputs": [],
   "source": [
    "def SD_diff_int_rate(E_R, A, J, parameters, DM_mass, v_esc, v_earth, sigma, int_cross=1.):\n",
    "    \"\"\"\n",
    "    Calculate the spin dependent differential interaction rate. \n",
    "    \n",
    "    Input:\n",
    "    - E_R:        Recoil Energy in GeV\n",
    "    - A:          The atomic mass number of the detector\n",
    "    - J:          The spin of the atoms in the detector\n",
    "    - parameters: Detector dependent parameter\n",
    "    - DM_mass:    The mass of the dark matter particles in GeV\n",
    "    - v_esc:      Escape velocity of the DM particles in km/s\n",
    "    - v_earth:    The velocity of the earth in km/s\n",
    "    - sigma:      Deviation in the velocity distribution in km/s\n",
    "    - int_cross:  Interaction cross section between the WIMP and a proton at zero momentum in cm^2\n",
    "    \n",
    "    Output:\n",
    "    SD differential interaction rate in events day^-1 kg^-1 keV^-1\n",
    "    \"\"\"\n",
    "    \n",
    "    rho = 0.30 # ± 0.05 GeV / cm^3\n",
    "    m_N = 0.9315 * A # GeV\n",
    "    \n",
    "    v_m = v_min(E_R, A, DM_mass)\n",
    "    dRdE = (rho/(DM_mass*m_N) * diff_cross_section(E_R, A, J, parameters, DM_mass, int_cross) * \n",
    "            speed_integrated(v_m,v_esc, v_earth, sigma)) # s cm^-1 km^-1 GeV^-2\n",
    "    \n",
    "    return dRdE*1E-19/(1.78E-36*2.9979E8)*24*3600 # day^-1 kg^-1 keV^-1"
   ]
  },
  {
   "cell_type": "code",
   "execution_count": 138,
   "metadata": {},
   "outputs": [],
   "source": [
    "para = [0.0595, 3.75, 0.0096] # for Xe-129\n",
    "A = 129 # for Xe-129\n",
    "J = 1/2 # for Xe-129\n",
    "DM_mass = 100 # GeV\n",
    "\n",
    "SD_recoil = np.linspace(2E-6,5E-3,10000)\n",
    "dR_dE_SD = [SD_diff_int_rate(E_R, A, J, para, DM_mass, v_esc, v_e, sigma) for E_R in SD_recoil]"
   ]
  },
  {
   "cell_type": "code",
   "execution_count": 139,
   "metadata": {},
   "outputs": [
    {
     "data": {
      "image/png": "[encoded data removed]",
      "text/plain": [
       "<Figure size 432x288 with 1 Axes>"
      ]
     },
     "metadata": {},
     "output_type": "display_data"
    }
   ],
   "source": [
    "plt.loglog(SD_recoil*1E6,dR_dE_SD)\n",
    "plt.xlabel(r'$E_R\\ [keV]$')\n",
    "plt.ylabel(r'$(1\\ cm^2/\\sigma_0)\\ dR/dE\\ [events\\ day^{-1}\\ kg^{-1}\\ keV^{-1}]$')\n",
    "plt.title(r'Differential SD interaction rate for $m_\\chi=100\\ GeV$ and a ${}^{129}Xe$ target')\n",
    "plt.show()"
   ]
  }
 ],
 "metadata": {
  "kernelspec": {
   "display_name": "Python 3",
   "language": "python",
   "name": "python3"
  },
  "language_info": {
   "codemirror_mode": {
    "name": "ipython",
    "version": 3
   },
   "file_extension": ".py",
   "mimetype": "text/x-python",
   "name": "python",
   "nbconvert_exporter": "python",
   "pygments_lexer": "ipython3",
   "version": "3.6.5"
  }
 },
 "nbformat": 4,
 "nbformat_minor": 2
}
