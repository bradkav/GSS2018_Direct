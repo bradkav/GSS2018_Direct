{
 "cells": [
  {
   "cell_type": "markdown",
   "metadata": {},
   "source": [
    "# Differential event rate\n",
    "\n",
    "\n",
    "$$\n",
    "\\frac{dR}{dE_R} = \\frac{\\rho_0}{m_\\chi m_N} \\int_{v_\\text{min}}^{v_\\text{max}} v f(v) \\frac{d\\sigma}{dE_R} dv\n",
    "$$\n",
    "\n",
    "The differential event rate gives the number of expected events per kg material per a unit energy and is of essential importance for direct dark matter detections. It predicts what a possible signal would look like in a detector."
   ]
  },
  {
   "cell_type": "markdown",
   "metadata": {},
   "source": [
    "## Velocity density distribution "
   ]
  },
  {
   "cell_type": "markdown",
   "metadata": {},
   "source": [
    "The three dimensional velocity function follows a Maxwell function\n",
    "$$\n",
    "f_{gal}(\\textbf{v}) = \\frac{1}{\\sqrt{2 \\pi}\\sigma_{v}} \\exp \\left(\\frac{-|\\textbf{v}|^2 } {2\\sigma_{v}^2}\\right)\n",
    "$$\n",
    "\n",
    "However, this assumes a static reference frame. In reality the detector is located on the Earth, which rotates, orbits the Sun and moves with the Sun through the Galaxy. This influences the velocity distribution observed at Earth. Since most Dark Matter direct detectors measure for a long time, it is a reasonable approximation to look at just the movement of the Sun through the Galaxy, which is $v_\\text{Earth} = 220 \\pm 20$ km/s. [1]\n",
    "\n",
    "$$\n",
    " f(\\mathbf{v}) = f_\\text{Gal}(\\mathbf{v}-\\mathbf{v}_\\text{Earth})\n",
    "$$\n",
    "\n",
    "Furthermore, the current detectors are not direction dependent. Therefore, the velocity distribution can be rewritten as a speed distribution. For the uncorrected veloctiy function this becomes:\n",
    "\n",
    "$$\n",
    " f_{gal}(v) \\text{ ~ } v^2 \\exp \\left(\\frac{-|v|^2}{2\\sigma_{v}^2} \\right)\n",
    "$$\n",
    "\n",
    "Once we introduce the correction of the earth the calculation becomes more complex. \n",
    "\n",
    "$$\n",
    " f(v) = \\int\\int d\\theta  \\frac{1}{\\sqrt{2 \\pi}\\sigma_v}\\exp \\left( \\frac{-|\\textbf{v}-\\textbf{v}_\\text{Earth}|}{2\\sigma_v^2} \\right) d\\cos\\theta \n",
    "$$\n",
    "\n",
    "$$\n",
    " f(v) = \\int\\int d\\theta  \\frac{1}{\\sqrt{2 \\pi}\\sigma_v}\\exp \\left( \\frac{-v^2-v_\\text{Earth}^2+2v_\\text{Earth}v\\cos \\theta}{2\\sigma_v^2} \\right) d\\cos\\theta \n",
    "$$\n",
    "\n",
    "$$\n",
    "f(v) =2 \\pi \\frac{1}{\\sqrt{2 \\pi}\\sigma_v}v^2\\exp \\left( \\frac{-v^2-v_\\text{Earth}^2}{2\\sigma_v^2} \\right) \\int \\exp \\left( \\frac{2 v_\\text{Earth}v \\cos \\theta}{2 \\sigma_v^2}  \\right) d\\cos \\theta\n",
    "$$\n",
    "\n",
    "If we wish to contnue we have to look at the limits for the $\\cos \\theta$ integration. \n",
    "\n",
    "<b>Insert integration limit </b>\n",
    "\n",
    "This results in the Standard Halo Model, where the slope of the higher energy particles extends further compared to a gaussian. \n",
    "\n",
    "$$\n",
    "f(v) = \\frac{v}{\\sqrt{2 \\pi}\\sigma_v v_e N_\\text{esc}} \n",
    "\\begin{cases}\n",
    "    0 & \\mbox{if } v \\gt v_\\text{esc}+v_e \\\\\n",
    "    \\exp \\left[-\\frac{(v-v_e)^2}{2\\sigma_v^2} \\right] - \\exp \\left[-\\frac{(v-v_e)^2}{2\\sigma_v^2} \\right] & \\mbox{if } v \\lt v_\\text{esc}-v_e \\\\\n",
    "    \\exp \\left[-\\frac{(v-v_e)^2}{2\\sigma_v^2} \\right] - \\exp \\left[-\\frac{v_\\text{esc}^2}{2\\sigma_v^2} \\right] & \n",
    "    \\mbox{otherwise}\n",
    "\\end{cases}\n",
    "$$\n",
    "\n",
    "The escape velocity for dark matter $v_\\text{esc}$ is assumed to be the galactic escape speed, which is around 550 km/s. [2]\n",
    "\n",
    "\n",
    "[1] F. J. Kerr and D. Lynden-Bell, “Review of galactic constants”, Mon. Not. Roy. Astron. Soc., vol. 221, p. 1023, 1986.\n",
    "[2] T. Piffl et al., \"The RAVE survey: the Galactic escape speed and the mass of the Milky Way\", Astron. Astrophys. 562 (2014) A91.\n"
   ]
  },
  {
   "cell_type": "code",
   "execution_count": 29,
   "metadata": {},
   "outputs": [],
   "source": [
    "import numpy as np\n",
    "import matplotlib.pyplot as plt\n",
    "import math\n",
    "from scipy import special,integrate\n",
    "from matplotlib import rc\n",
    "\n",
    "rc('font',**{'family':'sans-serif','sans-serif':['Helvetica']})\n",
    "rc('text', usetex=True)\n",
    "\n",
    "# usefull units\n",
    "\n",
    "amu = 0.9314940954   # 1 atomic mass unit = 0.931 GeV\n",
    "\n"
   ]
  },
  {
   "cell_type": "code",
   "execution_count": 30,
   "metadata": {},
   "outputs": [],
   "source": [
    "velocity = np.linspace(0,1500,1000)\n",
    "sigma = 270.  #km/s\n",
    "v_esc = 550.\n",
    "v_e = 220."
   ]
  },
  {
   "cell_type": "code",
   "execution_count": 31,
   "metadata": {},
   "outputs": [],
   "source": [
    "def N_esc(v_esc, sigma):\n",
    "    a = v_esc**2/(2*sigma**2)\n",
    "    return special.erf(np.sqrt(a))  - np.sqrt(2/np.pi) * v_esc/sigma *np.exp(-a)"
   ]
  },
  {
   "cell_type": "code",
   "execution_count": 32,
   "metadata": {},
   "outputs": [],
   "source": [
    "def speed_dist(v, v_e, v_esc, sigma):\n",
    "    factor = v / (np.sqrt(np.pi*2)*sigma*v_e*N_esc(v_esc, sigma))\n",
    "    \n",
    "    if v > v_esc+v_e:\n",
    "        return 0 \n",
    "    elif v < v_esc-v_e:\n",
    "        return factor*(np.exp(-(v-v_e)**2/(2*sigma**2)) - np.exp(-(v+v_e)**2/(2*sigma**2)))\n",
    "    else:\n",
    "        return factor*(np.exp(-(v-v_e)**2/(2*sigma**2)) - np.exp(-v_esc**2/(2*sigma**2)))"
   ]
  },
  {
   "cell_type": "code",
   "execution_count": 33,
   "metadata": {},
   "outputs": [
    {
     "data": {
      "image/png": "[encoded data removed]",
      "text/plain": [
       "<Figure size 432x288 with 1 Axes>"
      ]
     },
     "metadata": {},
     "output_type": "display_data"
    }
   ],
   "source": [
    "plt.plot(velocity, [speed_dist(i, v_e, v_esc, sigma) for i in velocity])\n",
    "plt.xlim([0,1500])\n",
    "plt.title(r\"Speed distribution from Earth\")\n",
    "plt.ylabel(r\"Probability\")\n",
    "plt.xlabel(r\"Velocity [km/s]\")\n",
    "plt.show()"
   ]
  },
  {
   "cell_type": "markdown",
   "metadata": {
    "collapsed": true
   },
   "source": [
    "## Interaction cross section\n",
    "\n",
    "The interaction cross section can be split into an spin-dependent and spin-independent. We will first look at the spin-independent part.\n",
    "\n",
    "$$\n",
    " \\frac{d\\sigma}{dE_R} = \\frac{d\\sigma_\\text{SD}}{dE_R} + \\frac{d\\sigma_\\text{SI}}{dE_R}\n",
    "$$\n",
    "\n",
    "Assuming the interaction strength of the neutron-DM and proton-DM is the same, the spin-independent part can be written as: \n",
    "\n",
    "$$\n",
    "\\frac{d\\sigma_\\text{SI}}{dE_R} = \\frac{m_N \\sigma_p^\\text{SI}}{2\\mu_{\\chi p}^2 v^2} A^2 F^2_\\text{SI}(E_R),\n",
    "$$\n",
    "where \n",
    "\n",
    "- $m_N$: the mass of the nucleus\n",
    "- $\\sigma_p^\\text{SI}$: the interaction strength at zero momentum\n",
    "- $\\mu_{\\chi p}$ the reduced mass of the proton-WIMP system ($=\\frac{m_\\chi m_p}{m_\\chi+m_p}$)\n",
    "- $A$ the atomic mass number of the target\n",
    "- $F$ the form factor correction"
   ]
  },
  {
   "cell_type": "markdown",
   "metadata": {},
   "source": [
    "## Form Factor\n",
    "\n",
    "Due to the particle wavelength being smaller than the radius of the proton, the cross section has to be corrected to be smaller. This is done using a parametrisation: the Helm form. \n",
    "\n",
    "$$\n",
    "F^2_\\text{SI}(E_R) = \\left[ \\frac{3 j_1(qR_1)}{qR_1}\\right]^2 e^{-q^2 s^2}\n",
    "$$\n",
    "with \n",
    "$$\n",
    "q = \\sqrt{2 m_N E_R}, \n",
    "$$\n",
    "and R_1 comes from spectroscopy data. \n",
    "\n",
    "$$\n",
    "R_1 = \\sqrt{c^2 +\\frac{7}{3}\\pi^2 a^2 - 5s^2}\n",
    "$$\n",
    "\n",
    "$$\n",
    "c = 1.23 A^{1/3}-0.60 \\text{ fm}\n",
    "$$\n",
    "\n",
    "$$\n",
    "a = 0.52 \\text{ fm}\n",
    "$$\n",
    "\n",
    "$$\n",
    "s = 0.9 \\text{ fm}\n",
    "$$\n",
    "\n",
    "To achieve the right units, R1 and s have to be transformed to be in natural units, preferably GeV. This is done by using the transformation that $0.1975 \\text{ fm} = \\frac{1}{\\text{GeV}}$.\n",
    "\n",
    "[2] B.J. Kavanagh, M Fornasa, A.M. Green, \"Probing WIMP particle physics and astrophysics with direct detection and neutrino telescope data\", Phys. Rev., vol. 91, issue 10  "
   ]
  },
  {
   "cell_type": "code",
   "execution_count": 66,
   "metadata": {},
   "outputs": [],
   "source": [
    "def FSquared(E_R, A):\n",
    "    \"\"\"\n",
    "    Calculate the form factor given an recoil energy and atomic mass number using the Helm parameterisation. \n",
    "    \n",
    "    Input: \n",
    "    - E_R   Recoil Energy       (keV)\n",
    "    - A:    Atomic mass number \n",
    "    \n",
    "    Output: \n",
    "    - Form Factor\n",
    "    \"\"\"\n",
    "    m = amu * A        # transform into GeV\n",
    "    E_R = 1e-6 * E_R   # transform into GeV\n",
    "    s = 0.9            # fm\n",
    "    a = 0.52           # fm\n",
    "    c = 1.23*A**(1/3) - 0.60 # fm\n",
    "    R1 = np.sqrt(c**2 + 7/3 * np.pi**2 *a**2  - 5*s**2) # fm\n",
    "    R1_NU = R1/(0.1975)  # GeV^-1 (natural units)\n",
    "    s_NU = s/(0.1975)    # GeV^-1 (natural units)\n",
    "    q = np.sqrt(2*m*E_R) # GeV\n",
    "    j_n = special.spherical_jn(1,q*R1_NU) # jn([energy*distance]?!?)\n",
    "    return(3*j_n/(q*R1_NU))**2 * np.exp(-q**2 *s_NU**2) # exp([energy*distance])?!?\n"
   ]
  },
  {
   "cell_type": "code",
   "execution_count": 67,
   "metadata": {},
   "outputs": [
    {
     "data": {
      "image/png": "[encoded data removed]",
      "text/plain": [
       "<Figure size 432x288 with 1 Axes>"
      ]
     },
     "metadata": {},
     "output_type": "display_data"
    }
   ],
   "source": [
    "x=np.linspace(10,1000,10000)\n",
    "y=[FSquared(q,130) for q in x]\n",
    "\n",
    "plt.loglog(x,y)\n",
    "plt.title(\"Form factor\")\n",
    "plt.xlabel(r\"$E_R$ (keV)\")\n",
    "plt.ylabel(r\"F$^2(E_R)$\")\n",
    "plt.show()"
   ]
  },
  {
   "cell_type": "markdown",
   "metadata": {},
   "source": [
    "When just the spin-independent part is considered the event rate can be split into a speed-dependent and speed-independent part. The speed-dependent part of the interaction rate can be rewritten as: \n",
    "\n",
    "$$\n",
    "\\eta(v_{min}) = \\frac{1}{2v_e N_\\text{esc}}\n",
    "\\begin{cases} \n",
    "    0 & \\mbox{if } v_\\text{min} > v_\\text{esc} + v_\\text{e} \\\\ \n",
    "    \\text{erf}[\\alpha_+]-\\text{erf}[\\alpha_-]-2\\frac{v_e}{\\sigma_v}\\sqrt{\\frac{2}{\\pi}} \\exp \\left(-\\alpha_\\text{esc}^2 \\right) & \\mbox{if } v_\\text{min} < v_\\text{esc}- v_\\text{e}  \\\\\n",
    "    \\text{erf}[\\alpha_\\text{esc}]-\\text{erf}[\\alpha_-] - \\frac{v_\\text{esc}+v_\\text{e}-v_\\text{min}}{\\sigma_v}\\sqrt{\\frac{2}{\\pi}}\\exp \\left(-\\alpha_\\text{esc}^2 \\right) & \\mbox{otherwise}\n",
    "\\end{cases}\n",
    "$$\n",
    "with \n",
    "\n",
    "$$\n",
    "\\alpha_\\pm(v_\\text{min}) = \\frac{v_\\text{min} \\pm v_\\text{e}}{\\sqrt{2}\\sigma_v} \\mbox{ and } \\alpha_\\text{esc} = \\frac{v_\\text{esc}}{\\sqrt{2}\\sigma_v}\n",
    "$$\n",
    "\n",
    "This can also be writen as:\n",
    "\n",
    "$$\n",
    "\\eta(v_\\text{min}) = \\frac{1}{2v_\\text{e}N_\\text{esc}} \\left(\\text{erf}[\\tilde \\alpha_+] - \\text{erf}[\\tilde \\alpha_-] - \\frac{2}{\\sqrt{\\pi}} (\\tilde \\alpha_+ - \\tilde \\alpha_-) \\exp[-\\alpha^2_\\text{esc}] \\right)\n",
    "$$\n",
    "where \n",
    "\n",
    "$$\n",
    "\\tilde \\alpha_\\pm(v_\\text{min}) = min(\\alpha_\\pm, \\alpha_\\text{esc})\n",
    "$$\n",
    "\n",
    "\n",
    "$$\n",
    "v_\\text{min} = \\sqrt{\\frac{m_\\text{N}E_R}{2\\mu_{\\chi N}}}\n",
    "$$\n",
    "\n"
   ]
  },
  {
   "cell_type": "code",
   "execution_count": 25,
   "metadata": {},
   "outputs": [],
   "source": [
    "def speed_integrated(v_min, v_earth, v_esc, sigma):\n",
    "    \"\"\"\n",
    "    Return the value of the integrated speed distribution in the interaction rate\n",
    "    \"\"\"\n",
    "    a_esc = v_esc / (np.sqrt(2)*sigma)\n",
    "    ap = min( (v_min + v_earth)/(np.sqrt(2)*sigma), a_esc)\n",
    "    am = min( (v_min - v_earth)/(np.sqrt(2)*sigma), a_esc)\n",
    "    return 1/(2*v_earth*N_esc(v_min, sigma))* (special.erf(ap)-special.erf(am)- (2/np.sqrt(np.pi))*(ap - am)*np.exp(-a_esc**2) )\n",
    "        \n",
    "    "
   ]
  },
  {
   "cell_type": "code",
   "execution_count": 26,
   "metadata": {},
   "outputs": [
    {
     "name": "stderr",
     "output_type": "stream",
     "text": [
      "/usr/local/lib/python3.6/site-packages/ipykernel_launcher.py:8: RuntimeWarning: divide by zero encountered in double_scalars\n",
      "  \n"
     ]
    },
    {
     "data": {
      "image/png": "[encoded data removed]",
      "text/plain": [
       "<Figure size 432x288 with 1 Axes>"
      ]
     },
     "metadata": {},
     "output_type": "display_data"
    }
   ],
   "source": [
    "plt.loglog(velocity, [speed_integrated(i, v_e, v_esc, sigma) for i in velocity])\n",
    "plt.title(r\"Speed distribution from Earth\")\n",
    "plt.ylabel(r\"1/$v$ [s/km]\")\n",
    "plt.xlabel(r\"Velocity [km/s]\")\n",
    "plt.show()"
   ]
  },
  {
   "cell_type": "markdown",
   "metadata": {
    "collapsed": true
   },
   "source": [
    "# The Differential Interaction Rate\n",
    "\n",
    "There are still several variables that are unspecified in the differential interaction rate. \n",
    "\n",
    "$$\n",
    "\\frac{dR}{dE_R} = \\frac{\\rho_0}{m_\\chi} \\frac{\\sigma^\\text{SI}_p A^2 F^2(E_R)}{2 \\mu_{\\chi p}^2} \\int_{v_\\text{min}}^{v_\\text{esc}} \\frac{f(v)}{v} dv\n",
    "$$\n",
    "\n",
    "$$\n",
    "\\frac{dR}{dE_R} = \\frac{\\rho_0}{m_\\chi} \\frac{\\sigma^\\text{SI}_p A^2 F^2(E_R)}{2 \\mu_{\\chi p}^2} \\eta(v_\\text{min})\n",
    "$$"
   ]
  },
  {
   "cell_type": "code",
   "execution_count": null,
   "metadata": {
    "collapsed": true
   },
   "outputs": [],
   "source": [
    "def v_min(E_R, A, DM_mass):\n",
    "    \"\"\"\n",
    "    Calculate the minimum velocity at which the energy can still create a recoil effect\n",
    "    \"\"\"\n",
    "    m_N = amu * A  # Atomic number conversion\n",
    "    mu = (m_N*DM_mass)/(m_N + DM_mass)\n",
    "    return np.sqrt((m_N * E_R)/(2*mu**2))"
   ]
  },
  {
   "cell_type": "code",
   "execution_count": null,
   "metadata": {
    "collapsed": true
   },
   "outputs": [],
   "source": [
    "def diff_int_rate(E_R, DM_mass, A, int_cross=1., v_esc=v_esc, v_earth=v_e, sigma=sigma):\n",
    "    \"\"\"\n",
    "    Calculate the differential interaction rate. \n",
    "    \n",
    "    Input:\n",
    "    - E_R:        Recoil Energy\n",
    "    - DM_mass:    The mass of the WIMP\n",
    "    - int_cross:  Interaction cross section between the WIMP and a proton at zero momentum\n",
    "    - A:          The atomic mass number \n",
    "    - v_esc:      Escape velocity of the DM particles\n",
    "    - v_earth:    The velocity of the earth\n",
    "    - sigma:      Deviation in the velocity distribution\n",
    "    \"\"\"\n",
    "    m_N = amu * A\n",
    "    rho = 0.30 # ± 0.05 GeV\n",
    "    mu = (DM_mass * m_N)/ (DM_mass + m_N)\n",
    "    v_m = v_min(E_R, A, DM_mass)\n",
    "    return (rho/DM_mass * (int_cross * A**2 * FSquared(E_R, A))/(2*mu**2) * \n",
    "            speed_integrated(v_m,v_esc, v_earth, sigma))"
   ]
  },
  {
   "cell_type": "code",
   "execution_count": null,
   "metadata": {},
   "outputs": [],
   "source": [
    "# recoil_energy = np.arange(10,110,10)\n",
    "# A_Xe = 132\n",
    "# for E in recoil_energy:\n",
    "#     mDM = np.logspace(-1,4,1000)\n",
    "#     dRdE_test = [diff_int_rate(E, m, A_Xe) for m in mDM]\n",
    "\n",
    "#     plt.loglog(mDM,dRdE_test,label='E=%.0f GeV'%E)\n",
    "#     plt.xlabel(r'$m_\\chi\\ [GeV]$')\n",
    "#     plt.ylabel(r'${\\sigma_{p}^{SI}}^{-1}*dR/dE\\ [GeV^{-2}]$')\n",
    "# plt.title('Xenon-132')\n",
    "# plt.legend(ncol=2)\n",
    "# plt.show()"
   ]
  },
  {
   "cell_type": "code",
   "execution_count": null,
   "metadata": {},
   "outputs": [],
   "source": [
    "A_list = [132, 40, 74] # Don't know if this is corresponding with detector-usage. Sometimes I just took a isotope.\n",
    "Names = ['Xenon-132', 'Argon-40', 'Germanium-74']\n",
    "\n",
    "for i in range(3):\n",
    "    recoil_energy = np.arange(4.9E-6,40.9E-6,5E-6) # GeV. Don't know these values. These for XENON1T(?, arxiv:1805.12562)\n",
    "    for E in recoil_energy:\n",
    "        mDM = np.logspace(1,3,1000) # GeV\n",
    "        dRdE_test = [diff_int_rate(E, m, A_list[i]) for m in mDM]\n",
    "\n",
    "        plt.loglog(mDM,dRdE_test,label='E=%.2g GeV'%E)\n",
    "        plt.xlabel(r'$m_\\chi\\ [GeV]$')\n",
    "        plt.ylabel(r'$dR/dE\\ [{\\sigma_{p}^{SI}}\\ GeV^{-2}]$')\n",
    "    plt.title(Names[i])\n",
    "    plt.legend(ncol=2)\n",
    "    plt.show()"
   ]
  },
  {
   "cell_type": "code",
   "execution_count": null,
   "metadata": {
    "collapsed": true
   },
   "outputs": [],
   "source": [
    "## ADD a test + plot the differential interaction rate\n",
    "## For 3 different type of target masses (Xe, Ar, Ge)\n",
    "## For different WIMP masses"
   ]
  },
  {
   "cell_type": "markdown",
   "metadata": {},
   "source": [
    "# Integrated Interaction Rate"
   ]
  },
  {
   "cell_type": "code",
   "execution_count": null,
   "metadata": {
    "collapsed": true
   },
   "outputs": [],
   "source": [
    "# Integrate the diff_int_rate from E_threshold upto E_max"
   ]
  },
  {
   "cell_type": "markdown",
   "metadata": {},
   "source": [
    "$$\n",
    "R=\\int _{E_T}^{E_{max}}\\frac{dR}{dE}\n",
    "$$\n",
    "\n",
    "$$\n",
    "\\frac{dR}{dE_R} = \\frac{\\rho_0}{m_\\chi} \\frac{\\sigma^\\text{SI}_p A^2 F^2(E_R)}{2 \\mu_{\\chi p}^2} \\eta(v_\\text{min})\n",
    "$$"
   ]
  },
  {
   "cell_type": "code",
   "execution_count": null,
   "metadata": {},
   "outputs": [],
   "source": [
    "def rate(DM_mass, A, E_T, E_max, int_cross=1.):\n",
    "    R = integrate.quad(lambda v: diff_int_rate(v, DM_mass, A, int_cross),E_T,E_max)\n",
    "    return R"
   ]
  },
  {
   "cell_type": "code",
   "execution_count": null,
   "metadata": {},
   "outputs": [],
   "source": [
    "mDM2 = np.logspace(1,3,20)\n",
    "R = [rate(m,128,5E-6,4E-5)[0] for m in mDM2]"
   ]
  },
  {
   "cell_type": "code",
   "execution_count": null,
   "metadata": {},
   "outputs": [],
   "source": [
    "plt.loglog(mDM2,R)\n",
    "plt.xlabel(r'$m_\\chi\\ [GeV]$')\n",
    "plt.ylabel(r'$R\\ [{\\sigma_{p}^{SI}}GeV^{-1}]$')\n",
    "plt.show()"
   ]
  },
  {
   "cell_type": "markdown",
   "metadata": {},
   "source": [
    "\\begin{align}\n",
    "    &R = \\int_{E_T}^\\infty dE_R\\dfrac{\\rho_0}{m_Nm_\\chi}\\int_{v_{min}}^\\infty vf(v)\\dfrac{d\\sigma_{WN}}{dE_R}dv\\\\\n",
    "    &v_{min} = \\sqrt{\\dfrac{m_NE_R}{2\\mu_N^2}}\\\\\n",
    "    &\\mu_N = \\dfrac{m_\\chi m_N}{m_\\chi + m_N}\n",
    "\\end{align}\n",
    "\n",
    "\\begin{align}\n",
    "    \\sigma_0 &= \\dfrac{4\\mu_N^2}{\\pi}\\left[Zf^p+(A-Z)f^n\\right]^2\\\\\n",
    "    \\sigma_{0,P} &= \\dfrac{4\\mu_N^2}{\\pi} \\left(f^p\\right)^2\\\\\n",
    "    \\left(f^p\\right)^2 &= \\dfrac{\\pi}{4\\mu_N^2} \\sigma_{0,P}\n",
    "\\end{align}\n",
    "where $\\mu_N=m_\\chi m_N/\\left(m_\\chi+m_N\\right)$\n",
    "\n",
    "\\begin{align}f^p&=f^n\\\\\\sigma_0 &= \\dfrac{4\\mu_N^2}{\\pi}\\left[Zf^p+(A-Z)f^p\\right]^2 \\\\&= \\dfrac{4\\mu_N^2}{\\pi}\\left[A f^p\\right]^2\\\\&=\\dfrac{4\\mu_N^2A^2}{\\pi}\\left[f^p\\right]^2\\\\\n",
    "&=\\dfrac{4\\mu_N^2A^2}{\\pi}\\dfrac{\\pi}{4\\mu_N^2} \\sigma_{0,P}\\\\\n",
    "&=A^2\\sigma_{0,P}\\end{align}"
   ]
  },
  {
   "cell_type": "markdown",
   "metadata": {},
   "source": [
    "# Spin-dependent Interaction\n",
    "\n",
    "The spin-dependent part of the differential cross section is as follows: \n",
    "\n",
    "$$\n",
    "\\frac{d\\sigma_\\text{SD}}{dE_R} = \\frac{m_N \\sigma_p^\\text{SD}}{2\\mu_{\\chi p}^2 v^2} \\frac{2(J+1)}{3J} \\left(\\langle S_p \\rangle + \\frac{a_n}{a_p} \\langle S_n \\rangle \\right)^2 F^2_\\text{SD}(E_R)\n",
    "$$\n",
    "The $1/v^2$ can be removed, since it is taken into the integration of $v$ in $\\eta$. It is often assumed that the coupling strength between protons and neutrons is the same ($a_n = a_p$) and the form factor can be rewritten as a combination of spin structure values giving us: \n",
    "\n",
    "$$\n",
    "\\frac{d\\sigma_\\text{SD}}{dE_R} = \\frac{8 \\pi m_N \\sigma_p^\\text{SD}}{3\\mu_{\\chi p}^2} \\frac{S_{00}(E_R)}{(2J+1)}\n",
    "$$\n",
    "with\n",
    "\n",
    "$$\n",
    "S_{ij} = N((1-\\beta)e^{-\\alpha u} + \\beta)\n",
    "$$\n",
    "where $\\alpha, \\beta, N$ are parameters, while $u$ can be calculated. Here $q$ is the momentum transfer.  \n",
    "\n",
    "$$\n",
    "u = \\frac{(qb)^2}{2}, \\quad b = \\sqrt{\\frac{41.467}{(45.0A^{-1/3} -25.0A^{-2/3})}}\\text{  fm}\n",
    "$$\n",
    "\n",
    "\n",
    "## Spin structure "
   ]
  },
  {
   "cell_type": "code",
   "execution_count": null,
   "metadata": {
    "collapsed": true
   },
   "outputs": [],
   "source": []
  },
  {
   "cell_type": "markdown",
   "metadata": {},
   "source": []
  },
  {
   "cell_type": "markdown",
   "metadata": {},
   "source": [
    "# New try"
   ]
  },
  {
   "cell_type": "code",
   "execution_count": null,
   "metadata": {
    "collapsed": true
   },
   "outputs": [],
   "source": [
    "import numpy as np\n",
    "import matplotlib.pyplot as plt\n",
    "import math\n",
    "from scipy import special,integrate\n",
    "from matplotlib import rc"
   ]
  },
  {
   "cell_type": "code",
   "execution_count": null,
   "metadata": {
    "collapsed": true
   },
   "outputs": [],
   "source": [
    "def N_esc(v_esc, sigma):\n",
    "    a = v_esc**2/(2*sigma**2)\n",
    "    return special.erf(np.sqrt(a))  - np.sqrt(2/np.pi) * v_esc/sigma *np.exp(-a)\n",
    "\n",
    "def speed_dist(v, v_e, sigma, v_esc):\n",
    "    factor = v / (np.sqrt(np.pi*2)*sigma*v_e*N_esc(v_esc, sigma))\n",
    "    \n",
    "    if v > v_esc+v_e:\n",
    "        return 0 \n",
    "    elif v < v_esc-v_e:\n",
    "        return factor*(np.exp(-(v-v_e)**2/(2*sigma**2)) - np.exp(-(v+v_e)**2/(2*sigma**2)))\n",
    "    else:\n",
    "        return factor*(np.exp(-(v-v_e)**2/(2*sigma**2)) - np.exp(-v_esc**2/(2*sigma**2)))"
   ]
  },
  {
   "cell_type": "code",
   "execution_count": null,
   "metadata": {
    "collapsed": true
   },
   "outputs": [],
   "source": [
    "A=130 # Atomic mass number\n",
    "m_N = A*1.660539E-27 #kg. Mass of detector target\n",
    "m_chi = 100 * 1.780E-27 #kg. Mass of WIMP\n",
    "mu_N = m_chi*m_N/(m_chi+m_N) #kg. Reduced mass\n",
    "sigma = 270 #km/s\n",
    "v_e = 220 #km/s\n",
    "v_esc = 550 #km/s\n",
    "\n",
    "def pdf(v):\n",
    "    return 1/ np.sqrt(2*np.pi*sigma**2) * np.exp(- np.abs(v)**2 / (2* sigma**2))\n",
    "\n",
    "def vmin(E_R=np.nan):\n",
    "    v_min = math.sqrt(m_N*E_R/(2*mu_N**2))\n",
    "    return v_min"
   ]
  },
  {
   "cell_type": "code",
   "execution_count": null,
   "metadata": {
    "collapsed": true
   },
   "outputs": [],
   "source": [
    "def FSquared2(E_R, A):\n",
    "    s=1 #fm\n",
    "    R=1.2*math.sqrt(A) #fm\n",
    "    R1=math.sqrt(R**2-5*s**2) #fm\n",
    "    j_n=special.spherical_jn(1,E_R*R1) #No unit\n",
    "    return (3*j_n/(E_R*R1))**2*math.exp(-E_R**2*s**2) #No unit"
   ]
  },
  {
   "cell_type": "code",
   "execution_count": null,
   "metadata": {
    "collapsed": true
   },
   "outputs": [],
   "source": [
    "def dSigma_dE_SI(E_R,v):\n",
    "    sigma_0 = A**2 #sigma_0,proton\n",
    "    return m_N*sigma_0*FSquared2(E_R,A)/(2*mu_N**2*v**2) #sigma_0,proton / Joule"
   ]
  },
  {
   "cell_type": "markdown",
   "metadata": {},
   "source": [
    "\\begin{align} R = \\int_{E_T}^\\infty dE_R\\dfrac{\\rho_0}{m_Nm_\\chi}\\int_{v_{min}}^\\infty vf(v)\\dfrac{d\\sigma_{WN}}{dE_R}dv \\end{align}"
   ]
  },
  {
   "cell_type": "code",
   "execution_count": null,
   "metadata": {
    "collapsed": true
   },
   "outputs": [],
   "source": [
    "def integrant(E_R,v):\n",
    "    integr = v*speed_dist(v, v_e, sigma, v_esc)*dSigma_dE_SI(E_R,v)\n",
    "    return integr"
   ]
  },
  {
   "cell_type": "code",
   "execution_count": null,
   "metadata": {
    "collapsed": true
   },
   "outputs": [],
   "source": [
    "#integrant(4,4)\n"
   ]
  },
  {
   "cell_type": "code",
   "execution_count": null,
   "metadata": {
    "collapsed": true
   },
   "outputs": [],
   "source": [
    "#E_T = 4*1.6021773E-22\n",
    "#integrate.dblquad(integrant, E_T, 100*1.6021773E-22, lambda x:vmin(x), lambda x:v_esc)"
   ]
  },
  {
   "cell_type": "code",
   "execution_count": null,
   "metadata": {},
   "outputs": [],
   "source": [
    "R = 0\n",
    "start = 4*1.6021773E-22\n",
    "finish = 100*1.6021773E-10\n",
    "steps = 10000\n",
    "dE = (finish-start)/steps\n",
    "ER_list = np.linspace(start, finish, steps)\n",
    "for E in ER_list:\n",
    "    integr = integrate.quad(lambda v: integrant(E,v),vmin(E),v_esc)\n",
    "    R += integr[0] * dE\n",
    "    \n",
    "print(\"R =%.2g x SIGMA_0,proton\"%(R))"
   ]
  },
  {
   "cell_type": "code",
   "execution_count": null,
   "metadata": {
    "collapsed": true
   },
   "outputs": [],
   "source": [
    "R_oud=R"
   ]
  },
  {
   "cell_type": "code",
   "execution_count": null,
   "metadata": {},
   "outputs": [],
   "source": [
    "(R-R_oud)/R"
   ]
  }
 ],
 "metadata": {
  "kernelspec": {
   "display_name": "Python 3",
   "language": "python",
   "name": "python3"
  },
  "language_info": {
   "codemirror_mode": {
    "name": "ipython",
    "version": 3
   },
   "file_extension": ".py",
   "mimetype": "text/x-python",
   "name": "python",
   "nbconvert_exporter": "python",
   "pygments_lexer": "ipython3",
   "version": "3.6.5"
  }
 },
 "nbformat": 4,
 "nbformat_minor": 2
}
