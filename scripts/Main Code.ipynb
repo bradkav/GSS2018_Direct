{
 "cells": [
  {
   "cell_type": "markdown",
   "metadata": {},
   "source": [
    "# Velocity density distribution "
   ]
  },
  {
   "cell_type": "markdown",
   "metadata": {},
   "source": [
    "The three dimensional velocity function follows a Maxwell function\n",
    "$$\n",
    "f_{gal}(\\textbf{v}) = \\frac{1}{\\sqrt{2 \\sigma_{\\nu}}} \\exp \\left(\\frac{-|\\textbf{v}|^2 } {2\\sigma_{\\nu}^2}\\right)\n",
    "$$\n",
    "\n",
    "$$\n",
    "f_{E}(v) =\\frac{1}{\\sqrt{2 \\sigma_{\\nu}}}v^2 \\exp \\left(\\frac{-|v|^2 } {2\\sigma_{\\nu}^2}\\right)\n",
    "$$"
   ]
  },
  {
   "cell_type": "code",
   "execution_count": null,
   "metadata": {},
   "outputs": [],
   "source": [
    "import numpy as np\n",
    "import matplotlib.pyplot as plt\n",
    "import math\n",
    "from scipy import special,integrate\n",
    "\n",
    "def pdf(v, sigma):\n",
    "    return 1/ np.sqrt(2*np.pi*sigma) * v**2 * np.exp(- np.abs(v)**2 / (2* sigma**2))"
   ]
  },
  {
   "cell_type": "code",
   "execution_count": null,
   "metadata": {
    "collapsed": true
   },
   "outputs": [],
   "source": [
    "sigma = 270.0E3 # m/s"
   ]
  },
  {
   "cell_type": "code",
   "execution_count": null,
   "metadata": {},
   "outputs": [],
   "source": [
    "v_range = np.linspace(0,2E6, 1000)\n",
    "plt.plot(v_range, [pdf(v, sigma) for v in v_range])\n",
    "plt.show()"
   ]
  },
  {
   "cell_type": "code",
   "execution_count": null,
   "metadata": {
    "collapsed": true
   },
   "outputs": [],
   "source": []
  },
  {
   "cell_type": "markdown",
   "metadata": {},
   "source": [
    "# Try velocity"
   ]
  },
  {
   "cell_type": "code",
   "execution_count": null,
   "metadata": {},
   "outputs": [],
   "source": [
    "v_range = np.linspace(0,2E6, 1000)\n",
    "plt.plot(v_range, [pdf(v, sigma) for v in v_range])\n",
    "plt.show()"
   ]
  },
  {
   "cell_type": "code",
   "execution_count": null,
   "metadata": {},
   "outputs": [],
   "source": [
    "integrate.quad(lambda v: v*pdf(v,sigma),0,2000)"
   ]
  },
  {
   "cell_type": "markdown",
   "metadata": {},
   "source": [
    "# Form Factor"
   ]
  },
  {
   "cell_type": "code",
   "execution_count": null,
   "metadata": {
    "collapsed": true
   },
   "outputs": [],
   "source": [
    "def FSquared(E_R, A):\n",
    "    s=1\n",
    "    R=1.2*math.sqrt(A)\n",
    "    R1=math.sqrt(R**2-5*s**2)\n",
    "    j_n=special.spherical_jn(1,E_R*R1)\n",
    "    return (3*j_n/(E_R*R1))**2*math.exp(-E_R**2*s**2)"
   ]
  },
  {
   "cell_type": "code",
   "execution_count": null,
   "metadata": {},
   "outputs": [],
   "source": [
    "FSquared(5,130)"
   ]
  },
  {
   "cell_type": "code",
   "execution_count": null,
   "metadata": {},
   "outputs": [],
   "source": [
    "x=np.linspace(0.1,2,1000)\n",
    "y=[FSquared(q,130) for q in x]\n",
    "\n",
    "plt.loglog(x,y)\n",
    "plt.xlabel(\"q (fm$^{-1}$)\")\n",
    "plt.ylabel(\"F$^2$(q)\")\n",
    "plt.show()"
   ]
  },
  {
   "cell_type": "code",
   "execution_count": null,
   "metadata": {
    "collapsed": true
   },
   "outputs": [],
   "source": []
  },
  {
   "cell_type": "markdown",
   "metadata": {},
   "source": [
    "\\begin{align}\n",
    "    \\sigma_0 &= \\dfrac{4\\mu_N^2}{\\pi}\\left[Zf^p+(A-Z)f^n\\right]^2\\\\\n",
    "    \\sigma_{0,P} &= \\dfrac{4\\mu_N^2}{\\pi} \\left(f^p\\right)^2\\\\\n",
    "    \\left(f^p\\right)^2 &= \\dfrac{\\pi}{4\\mu_N^2} \\sigma_{0,P}\n",
    "\\end{align}\n",
    "where $\\mu_N=m_\\chi m_N/\\left(m_\\chi+m_N\\right)$"
   ]
  },
  {
   "cell_type": "code",
   "execution_count": null,
   "metadata": {},
   "outputs": [],
   "source": [
    "A=130\n",
    "m_N = A*1.660539E-27 #kg\n",
    "m_chi = 100 * 1.780E-27 #kg\n",
    "mu_N = m_chi*m_N/(m_chi+m_N)\n",
    "#2*m_N*A**2*f_p**2/(math.pi*v**2)*FSquared(q)"
   ]
  },
  {
   "cell_type": "code",
   "execution_count": null,
   "metadata": {},
   "outputs": [],
   "source": [
    "f_p_2 = math.pi/(4*mu_N**2)\n",
    "print(f_p_2)"
   ]
  },
  {
   "cell_type": "code",
   "execution_count": null,
   "metadata": {
    "collapsed": true
   },
   "outputs": [],
   "source": [
    "def dSigma_dER(E_R,v):\n",
    "    f_p = math.pi/(4*mu_N**2)\n",
    "    return 2*m_N*A**2*f_p/(math.pi*v**2)*FSquared(E_R,A)"
   ]
  },
  {
   "cell_type": "code",
   "execution_count": null,
   "metadata": {},
   "outputs": [],
   "source": [
    "dSigma_dER(5,4E4)"
   ]
  },
  {
   "cell_type": "code",
   "execution_count": null,
   "metadata": {},
   "outputs": [],
   "source": [
    "x1=np.linspace(0.1,2,1000)\n",
    "y1=[dSigma_dER(q,4E4) for q in x1]\n",
    "\n",
    "plt.loglog(x1,y1)\n",
    "plt.show()"
   ]
  },
  {
   "cell_type": "code",
   "execution_count": null,
   "metadata": {},
   "outputs": [],
   "source": [
    "x2=np.logspace(0,5,1000)\n",
    "y2=[dSigma_dER(1.2,v) for v in x2]\n",
    "\n",
    "plt.loglog(x2,y2)\n",
    "plt.show()"
   ]
  },
  {
   "cell_type": "code",
   "execution_count": null,
   "metadata": {
    "collapsed": true
   },
   "outputs": [],
   "source": []
  },
  {
   "cell_type": "markdown",
   "metadata": {},
   "source": [
    "\\begin{align}\n",
    "    &R = \\int_{E_T}^\\infty dE_R\\dfrac{\\rho_0}{m_Nm_\\chi}\\int_{v_{min}}^\\infty vf(v)\\dfrac{d\\sigma_{WN}}{dE_R}dv\\\\\n",
    "    &v_{min} = \\sqrt{\\dfrac{m_NE_R}{2\\mu_N^2}}\\\\\n",
    "    &\\mu_N = \\dfrac{m_\\chi m_N}{m_\\chi + m_N}\n",
    "\\end{align}"
   ]
  },
  {
   "cell_type": "code",
   "execution_count": null,
   "metadata": {
    "collapsed": true
   },
   "outputs": [],
   "source": [
    "E_R=1.2"
   ]
  },
  {
   "cell_type": "code",
   "execution_count": null,
   "metadata": {
    "collapsed": true
   },
   "outputs": [],
   "source": [
    "integrate.quad(lambda v: v*pdf(v,sigma),0,2000)"
   ]
  }
 ],
 "metadata": {
  "kernelspec": {
   "display_name": "Python 3",
   "language": "python",
   "name": "python3"
  },
  "language_info": {
   "codemirror_mode": {
    "name": "ipython",
    "version": 3
   },
   "file_extension": ".py",
   "mimetype": "text/x-python",
   "name": "python",
   "nbconvert_exporter": "python",
   "pygments_lexer": "ipython3",
   "version": "3.6.5"
  }
 },
 "nbformat": 4,
 "nbformat_minor": 2
}
